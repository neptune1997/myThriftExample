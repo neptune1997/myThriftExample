{
 "cells": [
  {
   "cell_type": "code",
   "execution_count": 1,
   "metadata": {},
   "outputs": [],
   "source": [
    "import socket\n",
    "import sys\n",
    "sys.path.append('./gen-py')\n",
    "\n",
    "from hello import HelloWorld\n",
    "from hello.ttypes import *\n",
    "\n",
    "from thrift.transport import TSocket\n",
    "from thrift.transport import TTransport\n",
    "from thrift.protocol import TBinaryProtocol\n",
    "from thrift.server import TServer"
   ]
  },
  {
   "cell_type": "code",
   "execution_count": 2,
   "metadata": {},
   "outputs": [],
   "source": [
    "class HelloWorldHandler(object):\n",
    "    def __init__(self):\n",
    "        pass\n",
    "    def ping(self):\n",
    "        return 'pong'\n",
    "    def say(self,meg):\n",
    "        ret = \"Received: \"+meg\n",
    "        print(ret)\n",
    "        return ret"
   ]
  },
  {
   "cell_type": "code",
   "execution_count": 3,
   "metadata": {},
   "outputs": [],
   "source": [
    "handler = HelloWorldHandler()\n",
    "processor = HelloWorld.Processor(handler)\n",
    "transport = TSocket.TServerSocket(\"localhost\",9090)\n",
    "tfactory = TTransport.TBufferedTransportFactory()\n",
    "pfactory = TBinaryProtocol.TBinaryProtocolFactory()\n",
    "\n",
    "server = TServer.TSimpleServer(processor, transport, tfactory,pfactory)\n"
   ]
  },
  {
   "cell_type": "code",
   "execution_count": null,
   "metadata": {},
   "outputs": [
    {
     "name": "stdout",
     "output_type": "stream",
     "text": [
      "Received: hello jack\n"
     ]
    }
   ],
   "source": [
    "server.serve()"
   ]
  },
  {
   "cell_type": "code",
   "execution_count": null,
   "metadata": {},
   "outputs": [],
   "source": []
  }
 ],
 "metadata": {
  "kernelspec": {
   "display_name": "Python 3",
   "language": "python",
   "name": "python3"
  },
  "language_info": {
   "codemirror_mode": {
    "name": "ipython",
    "version": 3
   },
   "file_extension": ".py",
   "mimetype": "text/x-python",
   "name": "python",
   "nbconvert_exporter": "python",
   "pygments_lexer": "ipython3",
   "version": "3.6.7"
  }
 },
 "nbformat": 4,
 "nbformat_minor": 2
}
